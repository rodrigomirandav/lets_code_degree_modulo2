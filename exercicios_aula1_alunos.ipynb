{
 "cells": [
  {
   "cell_type": "markdown",
   "id": "otherwise-example",
   "metadata": {},
   "source": [
    "# Exercícios"
   ]
  },
  {
   "cell_type": "markdown",
   "id": "addressed-montana",
   "metadata": {},
   "source": [
    "1. Crie uma classe Bola cujos atributos são cor e raio. Crie um método que imprime a cor da bola. Crie um método para calcular a área dessa bola. Crie um método para calcular o volume da bola. Crie um objeto dessa classe e calcule a área e o volume, imprimindo ambos em seguida. \n",
    "    Obs.:\n",
    "\n",
    "    Área da esfera = 4*3.14*r*r;\n",
    "\n",
    "    Volume da esfera = 4*3.14*r*r*r/3"
   ]
  },
  {
   "cell_type": "code",
   "execution_count": 20,
   "id": "f465af40-1fc4-4f35-a63e-63179a09c05c",
   "metadata": {},
   "outputs": [],
   "source": [
    "import math\n",
    "\n",
    "class Bola:\n",
    "    \n",
    "    def __init__(self, cor, raio):\n",
    "        self.cor = cor\n",
    "        self.raio = raio\n",
    "        \n",
    "    def area(self):\n",
    "        return (4 * math.pi * (self.raio ** 2))\n",
    "    \n",
    "    def volume(self):\n",
    "        return (  (4 / 3)  *  (math.pi * (self.raio ** 3)) )\n",
    "    \n",
    "    def imprimir_cor(self):\n",
    "        print(f\"Cor da bola => {self.cor}\")"
   ]
  },
  {
   "cell_type": "code",
   "execution_count": 22,
   "id": "bb604454-2748-49dd-b7fd-99fba1445594",
   "metadata": {},
   "outputs": [
    {
     "name": "stdout",
     "output_type": "stream",
     "text": [
      "Cor da bola => Amarela\n",
      "12.566370614359172\n",
      "4.1887902047863905\n"
     ]
    }
   ],
   "source": [
    "bola1 = Bola(\"Amarela\", 1)\n",
    "bola1.imprimir_cor()\n",
    "print(bola1.area())\n",
    "print(bola1.volume())"
   ]
  },
  {
   "cell_type": "markdown",
   "id": "waiting-morocco",
   "metadata": {},
   "source": [
    "---"
   ]
  },
  {
   "cell_type": "markdown",
   "id": "cognitive-ministry",
   "metadata": {},
   "source": [
    "2. Crie uma classe Retângulo cujos atributos são lado_a e lado_b. Crie um método para calcular a área desse retângulo. Crie um objeto dessa classe e calcule a área e a imprima em seguida."
   ]
  },
  {
   "cell_type": "code",
   "execution_count": 23,
   "id": "ee85095b-98cc-4dfe-8a0e-a48d9cd6210a",
   "metadata": {},
   "outputs": [],
   "source": [
    "class Retangulo:\n",
    "    \n",
    "    def __init__(self, lado_a, lado_b):\n",
    "        self.lado_a = lado_a\n",
    "        self.lado_b = lado_b\n",
    "        \n",
    "    def area(self):\n",
    "        return self.lado_a * self.lado_b"
   ]
  },
  {
   "cell_type": "code",
   "execution_count": 26,
   "id": "320a5cb6-bb5f-449b-9545-21e6bf2a5901",
   "metadata": {},
   "outputs": [
    {
     "name": "stdout",
     "output_type": "stream",
     "text": [
      "100\n"
     ]
    }
   ],
   "source": [
    "retangulo1 = Retangulo(25,4)\n",
    "print(retangulo1.area())"
   ]
  },
  {
   "cell_type": "markdown",
   "id": "united-report",
   "metadata": {},
   "source": [
    "---"
   ]
  },
  {
   "cell_type": "markdown",
   "id": "hindu-saturday",
   "metadata": {},
   "source": [
    "3. Crie uma classe Funcionario cujos atributos são nome e e-mail. Guarde as horas trabalhadas em um dicionário cujas chaves são o mês em questão e, em outro dicionário, guarde o salário por hora relativo ao mês em questão. Crie um método que retorna o salário mensal do funcionário."
   ]
  },
  {
   "cell_type": "code",
   "execution_count": 33,
   "id": "1118afc1-6f77-4c3f-9756-fce1ff0e4104",
   "metadata": {},
   "outputs": [],
   "source": [
    "class Funcionario:\n",
    "    \n",
    "    def __init__(self,nome, email):\n",
    "        self.nome = nome\n",
    "        self.email = email\n",
    "        \n",
    "        self.horas_trabalhadas = {}\n",
    "        self.salario_hora = {}\n",
    "        \n",
    "    def cadastra_hora_trabalhada_mes(self, mes, hora):\n",
    "        self.horas_trabalhadas[mes.lower()] = hora\n",
    "        \n",
    "    def cadasta_salario_hora_mes(self, mes, salario_hora):\n",
    "        self.salario_hora[mes.lower()] = salario_hora\n",
    "        \n",
    "    def salario_mensal(self,mes):\n",
    "        mes = mes.lower()\n",
    "        if ( (mes in self.horas_trabalhadas) and (mes in self.salario_hora) ):\n",
    "            return self.horas_trabalhadas[mes] * self.salario_hora[mes]\n",
    "        else:\n",
    "            return 0"
   ]
  },
  {
   "cell_type": "code",
   "execution_count": 38,
   "id": "f2c89ae3-421a-419f-b3e9-75afee97d9a5",
   "metadata": {},
   "outputs": [
    {
     "data": {
      "text/plain": [
       "1950.0"
      ]
     },
     "execution_count": 38,
     "metadata": {},
     "output_type": "execute_result"
    }
   ],
   "source": [
    "funcionario_1 = Funcionario(\"Rodrigo\", \"rodrigomirandav250@gmail.com\")\n",
    "funcionario_1.cadastra_hora_trabalhada_mes(\"outubro\", 30)\n",
    "funcionario_1.cadasta_salario_hora_mes(\"outubro\", 65.0)\n",
    "funcionario_1.salario_mensal(\"outubro\")"
   ]
  },
  {
   "cell_type": "markdown",
   "id": "understanding-impact",
   "metadata": {},
   "source": [
    "---"
   ]
  },
  {
   "cell_type": "markdown",
   "id": "parental-montana",
   "metadata": {},
   "source": [
    "4. Crie uma classe Televisor cujos atributos são:\n",
    "\n",
    "    a. fabricante;\n",
    "\n",
    "    b. modelo;\n",
    "\n",
    "    c. canal atual;\n",
    "\n",
    "    d. lista de canais; e\n",
    "\n",
    "    e. volume.\n",
    "\n",
    "    Faça métodos para aumentar/diminuir volume, trocar o canal e sintonizar um novo canal, que adiciona um novo canal à lista de canais (somente se esse canal não estiver nessa lista). No atributo lista de canais, devem estar armazenados todos os canais já sintonizados dessa TV.\n",
    "\n",
    "    Obs.: O volume não pode ser menor que zero e maior que cem; só se pode trocar para um canal que já esteja na lista de canais."
   ]
  },
  {
   "cell_type": "code",
   "execution_count": 69,
   "id": "f0de2e9c-1416-4116-b5ba-5073194ae677",
   "metadata": {},
   "outputs": [],
   "source": [
    "class Televisor:\n",
    "    \n",
    "    def __init__(self, fabricante, modelo, lista_canais=[]):\n",
    "        self.fabricante = fabricante\n",
    "        self.modelo = modelo\n",
    "        self.lista_canais = lista_canais\n",
    "        self.canal = None\n",
    "        self.volume = 0\n",
    "        \n",
    "    def aumentar_volume(self, volume):\n",
    "        volume = self.volume + volume\n",
    "        \n",
    "        if volume > 100:\n",
    "            self.volume = 100\n",
    "        else:\n",
    "            self.volume = volume\n",
    "        \n",
    "    def diminuir_volume(self, volume):\n",
    "        volume = self.volume - volume\n",
    "        \n",
    "        if volume < 0:\n",
    "            self.volume = 0\n",
    "        else:\n",
    "            self.volume = volume\n",
    "            \n",
    "    def mostrar_volume(self):\n",
    "        print(f\"Volume => {self.volume}\")\n",
    "        \n",
    "    def trocar_canal(self, canal):\n",
    "        if canal in self.lista_canais:\n",
    "            self.canal = canal\n",
    "    \n",
    "    def sintonizar_canal(self, canal):\n",
    "        if canal not in self.lista_canais:\n",
    "            self.lista_canais.append(canal)\n",
    "    \n",
    "    def mostrar_canal(self):\n",
    "        print(f\"Canal => {self.canal}\")\n",
    "        \n",
    "    def mostrar_canais_sintonizados(self):\n",
    "        print(f\"Canais => {self.lista_canais}\")"
   ]
  },
  {
   "cell_type": "code",
   "execution_count": 75,
   "id": "32341baa-c637-40ea-bfcf-f7f01233a44b",
   "metadata": {},
   "outputs": [
    {
     "name": "stdout",
     "output_type": "stream",
     "text": [
      "Volume => 5\n",
      "Volume => 0\n",
      "Canal => None\n",
      "Canais => [10, 5]\n",
      "Canal => 10\n",
      "Canais => [10, 5]\n",
      "Canal => 5\n",
      "Volume => 100\n"
     ]
    }
   ],
   "source": [
    "televisor1 = Televisor(\"Samsung\", \"SXP-15856\")\n",
    "televisor1.aumentar_volume(5)\n",
    "televisor1.mostrar_volume()\n",
    "televisor1.diminuir_volume(10)\n",
    "televisor1.mostrar_volume()\n",
    "televisor1.trocar_canal(4)\n",
    "televisor1.sintonizar_canal(10)\n",
    "televisor1.mostrar_canal()\n",
    "televisor1.mostrar_canais_sintonizados()\n",
    "televisor1.trocar_canal(10)\n",
    "televisor1.mostrar_canal()\n",
    "televisor1.sintonizar_canal(5)\n",
    "televisor1.mostrar_canais_sintonizados()\n",
    "televisor1.trocar_canal(5)\n",
    "televisor1.mostrar_canal()\n",
    "televisor1.aumentar_volume(200)\n",
    "televisor1.mostrar_volume()"
   ]
  },
  {
   "cell_type": "markdown",
   "id": "empirical-childhood",
   "metadata": {},
   "source": [
    "---"
   ]
  },
  {
   "cell_type": "markdown",
   "id": "published-criterion",
   "metadata": {},
   "source": [
    "5. Crie uma classe ControleRemoto cujo atributo é televisão (isso é, recebe um objeto da classe do exercício 4). Crie métodos para aumentar/diminuir volume, trocar o canal e sintonizar um novo canal, que adiciona um novo canal à lista de canais (somente se esse canal não estiver nessa lista)."
   ]
  },
  {
   "cell_type": "code",
   "execution_count": 78,
   "id": "3682639c-e10a-48b5-ad76-efe68ab26fb3",
   "metadata": {},
   "outputs": [],
   "source": [
    "class ControleRemoto:\n",
    "\n",
    "    def __init__(self, televisor):\n",
    "        self.televisor = televisor\n",
    "        \n",
    "    def aumentar_volume(self, volume):\n",
    "        self.televisor.aumentar_volume(volume)\n",
    "        \n",
    "    def diminuir_volume(self, volume):\n",
    "        self.televisor.diminuir_volume(volume)\n",
    "            \n",
    "    def mostrar_volume(self):\n",
    "        self.televisor.mostrar_volume()\n",
    "        \n",
    "    def trocar_canal(self, canal):\n",
    "        self.televisor.trocar_canal(canal)\n",
    "    \n",
    "    def sintonizar_canal(self, canal):\n",
    "        self.televisor.sintonizar_canal(canal)\n",
    "    \n",
    "    def mostrar_canal(self):\n",
    "        self.televisor.mostrar_canal()\n",
    "        \n",
    "    def mostrar_canais_sintonizados(self):\n",
    "        self.televisor.mostrar_canais_sintonizados()"
   ]
  },
  {
   "cell_type": "code",
   "execution_count": 79,
   "id": "3e2579c5-a6de-4153-9724-96da4770c956",
   "metadata": {},
   "outputs": [
    {
     "name": "stdout",
     "output_type": "stream",
     "text": [
      "Volume => 100\n",
      "Volume => 90\n",
      "Canal => 5\n",
      "Canais => [10, 5]\n",
      "Canal => 10\n",
      "Canais => [10, 5]\n",
      "Canal => 5\n",
      "Volume => 100\n"
     ]
    }
   ],
   "source": [
    "controle_remoto1 = ControleRemoto(televisor1)\n",
    "controle_remoto1.aumentar_volume(5)\n",
    "controle_remoto1.mostrar_volume()\n",
    "controle_remoto1.diminuir_volume(10)\n",
    "controle_remoto1.mostrar_volume()\n",
    "controle_remoto1.trocar_canal(4)\n",
    "controle_remoto1.sintonizar_canal(10)\n",
    "controle_remoto1.mostrar_canal()\n",
    "controle_remoto1.mostrar_canais_sintonizados()\n",
    "controle_remoto1.trocar_canal(10)\n",
    "controle_remoto1.mostrar_canal()\n",
    "controle_remoto1.sintonizar_canal(5)\n",
    "controle_remoto1.mostrar_canais_sintonizados()\n",
    "controle_remoto1.trocar_canal(5)\n",
    "controle_remoto1.mostrar_canal()\n",
    "controle_remoto1.aumentar_volume(200)\n",
    "controle_remoto1.mostrar_volume()"
   ]
  },
  {
   "cell_type": "markdown",
   "id": "above-individual",
   "metadata": {},
   "source": [
    "---"
   ]
  },
  {
   "cell_type": "markdown",
   "id": "affected-monster",
   "metadata": {},
   "source": [
    "6. O módulo time possui a função time.sleep(x), que faz seu programa “dormir” por x segundos. Utilizando essa função, crie uma classe Cronômetro e faça um programa que cronometre o tempo."
   ]
  },
  {
   "cell_type": "code",
   "execution_count": 18,
   "id": "8388cdc9-2794-40bc-8f51-904892c5e96c",
   "metadata": {},
   "outputs": [
    {
     "name": "stdout",
     "output_type": "stream",
     "text": [
      "00:00:03\n"
     ]
    },
    {
     "ename": "KeyboardInterrupt",
     "evalue": "",
     "output_type": "error",
     "traceback": [
      "\u001b[1;31m---------------------------------------------------------------------------\u001b[0m",
      "\u001b[1;31mKeyboardInterrupt\u001b[0m                         Traceback (most recent call last)",
      "\u001b[1;32m<ipython-input-18-07cca785175b>\u001b[0m in \u001b[0;36m<module>\u001b[1;34m\u001b[0m\n\u001b[0;32m     62\u001b[0m \u001b[1;33m\u001b[0m\u001b[0m\n\u001b[0;32m     63\u001b[0m \u001b[0mcronometro1\u001b[0m \u001b[1;33m=\u001b[0m \u001b[0mCronometro\u001b[0m\u001b[1;33m(\u001b[0m\u001b[1;33m)\u001b[0m\u001b[1;33m\u001b[0m\u001b[1;33m\u001b[0m\u001b[0m\n\u001b[1;32m---> 64\u001b[1;33m \u001b[0mcronometro1\u001b[0m\u001b[1;33m.\u001b[0m\u001b[0miniciar_cronometro\u001b[0m\u001b[1;33m(\u001b[0m\u001b[1;33m)\u001b[0m\u001b[1;33m\u001b[0m\u001b[1;33m\u001b[0m\u001b[0m\n\u001b[0m",
      "\u001b[1;32m<ipython-input-18-07cca785175b>\u001b[0m in \u001b[0;36miniciar_cronometro\u001b[1;34m(self)\u001b[0m\n\u001b[0;32m     34\u001b[0m         '''\n\u001b[0;32m     35\u001b[0m         \u001b[1;32mwhile\u001b[0m \u001b[1;32mTrue\u001b[0m\u001b[1;33m:\u001b[0m\u001b[1;33m\u001b[0m\u001b[1;33m\u001b[0m\u001b[0m\n\u001b[1;32m---> 36\u001b[1;33m             \u001b[0mtime\u001b[0m\u001b[1;33m.\u001b[0m\u001b[0msleep\u001b[0m\u001b[1;33m(\u001b[0m\u001b[1;36m1\u001b[0m\u001b[1;33m)\u001b[0m\u001b[1;33m\u001b[0m\u001b[1;33m\u001b[0m\u001b[0m\n\u001b[0m\u001b[0;32m     37\u001b[0m             \u001b[0mself\u001b[0m\u001b[1;33m.\u001b[0m\u001b[0msegundos\u001b[0m \u001b[1;33m+=\u001b[0m \u001b[1;36m1\u001b[0m\u001b[1;33m\u001b[0m\u001b[1;33m\u001b[0m\u001b[0m\n\u001b[0;32m     38\u001b[0m \u001b[1;33m\u001b[0m\u001b[0m\n",
      "\u001b[1;31mKeyboardInterrupt\u001b[0m: "
     ]
    }
   ],
   "source": [
    "import time\n",
    "from IPython.display import clear_output\n",
    "\n",
    "class Cronometro:\n",
    "    '''\n",
    "    Cria uma representação de um cronometro \n",
    "    \n",
    "    Atributos\n",
    "    ----------\n",
    "    dias : int\n",
    "        Dias passados\n",
    "    horas : int\n",
    "        Horas passadas\n",
    "    minutos : int\n",
    "        Minutos passados\n",
    "    segundos : int\n",
    "        Segundos passados\n",
    "    '''\n",
    "    \n",
    "    def __init__(self):\n",
    "        '''\n",
    "        Construtor\n",
    "        '''\n",
    "\n",
    "        # Criando os atributos da classe Cronometro\n",
    "        self.dias = 0\n",
    "        self.horas = 0\n",
    "        self.minutos = 0\n",
    "        self.segundos = 0\n",
    "        \n",
    "    def iniciar_cronometro(self):\n",
    "        '''\n",
    "        função para inicializar o cronometro       \n",
    "        '''\n",
    "        while True:\n",
    "            time.sleep(1)\n",
    "            self.segundos += 1\n",
    "\n",
    "            if self.segundos == 60:\n",
    "                self.segundos = 0\n",
    "                self.minutos += 1\n",
    "\n",
    "            if self.minutos == 60:\n",
    "                self.minutos = 0\n",
    "                self.horas += 1\n",
    "\n",
    "            if self.horas == 24:\n",
    "                self.horas = 0\n",
    "                self.dias += 1\n",
    "\n",
    "            self.imprmir_tempo()\n",
    "        \n",
    "    def imprmir_tempo(self):\n",
    "        '''\n",
    "            Função que imprime o tempo     \n",
    "        '''\n",
    "        clear_output(wait=True)\n",
    "        if self.dias == 0:\n",
    "            print(f'{self.horas:02d}:{self.minutos:02d}:{self.segundos:02d}')\n",
    "        else:\n",
    "            print(f'{self.dias} dia(s) {self.horas:02d}:{self.minutos:02d}:{self.segundos:02d}')\n",
    "    \n",
    "cronometro1 = Cronometro()\n",
    "cronometro1.iniciar_cronometro()"
   ]
  },
  {
   "cell_type": "markdown",
   "id": "jewish-viking",
   "metadata": {},
   "source": [
    "---"
   ]
  },
  {
   "cell_type": "markdown",
   "id": "nasty-player",
   "metadata": {},
   "source": [
    "7. Crie uma modelagem de classes para uma agenda capaz de armazenar contatos. Através dessa agenda é possível incluir, remover, buscar e listar contatos já cadastrados."
   ]
  },
  {
   "cell_type": "code",
   "execution_count": 86,
   "id": "4f23d2e2-b923-43ef-8dc3-c6f820900e2d",
   "metadata": {},
   "outputs": [],
   "source": [
    "class Contato:\n",
    "    '''\n",
    "    Cria uma representação de um contato \n",
    "    \n",
    "    Atributos\n",
    "    ----------\n",
    "    nome : str\n",
    "        Nome do contato\n",
    "    telefone : str\n",
    "        Telefone do contato\n",
    "    '''\n",
    "    \n",
    "    def __init__(self, nome, telefone):\n",
    "        '''\n",
    "        Construtor\n",
    "\n",
    "        Parâmetros\n",
    "        ----------\n",
    "        nome : str\n",
    "            Recebe um nome como parametro\n",
    "        telefone : str\n",
    "            Recebe um telefone como parametro\n",
    "        '''\n",
    "\n",
    "        # Criando os atributos da classe Contato\n",
    "        self.nome = nome\n",
    "        self.telefone = telefone\n",
    "\n",
    "\n",
    "class Agenda:\n",
    "    '''\n",
    "    Cria uma representação de uma Agenda\n",
    "    \n",
    "    Atributos\n",
    "    ----------\n",
    "    contatos : list:`Contato`\n",
    "        Guarda um contato na agenda\n",
    "    '''\n",
    "    \n",
    "    def __init__(self):\n",
    "        '''\n",
    "        Construtor\n",
    "        '''\n",
    "        self.contatos = []\n",
    "        \n",
    "    def adicionar_contato(self, contato):\n",
    "        '''\n",
    "        Adiciona um contato na agenda\n",
    "\n",
    "        Parâmetros\n",
    "        ----------\n",
    "        contato : Contato\n",
    "            Recebe um contato para ser adicionado\n",
    "        \n",
    "        Retornos\n",
    "        -------\n",
    "        bool\n",
    "            Verdadeiro se foi adicionado ou falso caso já esteja \n",
    "            na lista de contatos\n",
    "        '''\n",
    "        if contato not in self.contatos:\n",
    "            self.contatos.append(contato)\n",
    "            return True\n",
    "        return False\n",
    "    \n",
    "    def imprime_contato(self, contato):\n",
    "        '''\n",
    "        Imprime um contato\n",
    "\n",
    "        Parâmetros\n",
    "        ----------\n",
    "        contato : Contato\n",
    "            Recebe um contato para ser impresso\n",
    "        '''\n",
    "        print(f\"Nome => {contato.nome}\\nTelefone=> {contato.telefone}\\n\")\n",
    "    \n",
    "    def listar_contatos(self):\n",
    "        '''\n",
    "        Lista todos os contatos da agenda\n",
    "        '''\n",
    "        for contato in self.contatos:\n",
    "            self.imprime_contato(contato)\n",
    "            \n",
    "            \n",
    "    def buscar_por_nome(self, texto_busca):\n",
    "        '''\n",
    "        Busca um contato através do nome, ele retorna todos os contatos\n",
    "        onde possui parte do texto buscado\n",
    "\n",
    "        Parâmetros\n",
    "        ----------\n",
    "        texto_busca : str\n",
    "            Recebe um texto de busca para ser encontrado no nome dos contatos\n",
    "        \n",
    "        Retornos\n",
    "        -------\n",
    "        list:`Contato`\n",
    "            Retorna uma lista de contatos\n",
    "        '''\n",
    "        return [contato for contato in self.contatos if texto_busca.lower() in contato.nome.lower()]"
   ]
  },
  {
   "cell_type": "code",
   "execution_count": 87,
   "id": "37191373-6374-4182-a0dc-3ddaff293998",
   "metadata": {},
   "outputs": [],
   "source": [
    "rodrigo = Contato(\"Rodrigo\",\"11962966\")\n",
    "rafael = Contato(\"Rafael\",\"11956535\")\n",
    "joana = Contato(\"Joana\",\"11962886\")\n",
    "ricardo = Contato(\"Ricardo\",\"11962966\")\n",
    "rodrigo = Contato(\"Rodrigo\",\"11962966\")\n",
    "rodrigo = Contato(\"Rodrigo\",\"11962966\")"
   ]
  },
  {
   "cell_type": "code",
   "execution_count": 88,
   "id": "9f150acb-00b4-482f-9011-0e6c5859f43f",
   "metadata": {},
   "outputs": [],
   "source": [
    "agenda_rodrigo = Agenda()"
   ]
  },
  {
   "cell_type": "code",
   "execution_count": 89,
   "id": "62f37653-8003-448c-8e1b-49022f2a7155",
   "metadata": {},
   "outputs": [
    {
     "data": {
      "text/plain": [
       "True"
      ]
     },
     "execution_count": 89,
     "metadata": {},
     "output_type": "execute_result"
    }
   ],
   "source": [
    "agenda_rodrigo.adicionar_contato(rafael)"
   ]
  },
  {
   "cell_type": "code",
   "execution_count": 90,
   "id": "648f8b11-e3be-4d93-b500-174bf498b8b2",
   "metadata": {},
   "outputs": [
    {
     "data": {
      "text/plain": [
       "False"
      ]
     },
     "execution_count": 90,
     "metadata": {},
     "output_type": "execute_result"
    }
   ],
   "source": [
    "agenda_rodrigo.adicionar_contato(rafael)"
   ]
  },
  {
   "cell_type": "code",
   "execution_count": 91,
   "id": "764221a2-21b2-4c13-9034-970ea1d40db2",
   "metadata": {},
   "outputs": [
    {
     "data": {
      "text/plain": [
       "True"
      ]
     },
     "execution_count": 91,
     "metadata": {},
     "output_type": "execute_result"
    }
   ],
   "source": [
    "agenda_rodrigo.adicionar_contato(joana)"
   ]
  },
  {
   "cell_type": "code",
   "execution_count": 92,
   "id": "382b2b9c-cdd9-4374-a87a-dcb40775f0c7",
   "metadata": {},
   "outputs": [
    {
     "name": "stdout",
     "output_type": "stream",
     "text": [
      "Nome => Rafael\n",
      "Telefone=> 11956535\n",
      "\n",
      "Nome => Joana\n",
      "Telefone=> 11962886\n",
      "\n"
     ]
    }
   ],
   "source": [
    "agenda_rodrigo.listar_contatos()"
   ]
  },
  {
   "cell_type": "code",
   "execution_count": 93,
   "id": "c158d50b-f212-48ba-a5d2-96049ebc67d0",
   "metadata": {},
   "outputs": [
    {
     "name": "stdout",
     "output_type": "stream",
     "text": [
      "Nome => Rafael\n",
      "Telefone=> 11956535\n",
      "\n",
      "Nome => Joana\n",
      "Telefone=> 11962886\n",
      "\n"
     ]
    }
   ],
   "source": [
    "agenda_rodrigo.listar_contatos()"
   ]
  },
  {
   "cell_type": "code",
   "execution_count": 94,
   "id": "be47037d-b773-4476-9108-e3a2a32f7e40",
   "metadata": {},
   "outputs": [
    {
     "data": {
      "text/plain": [
       "[<__main__.Contato at 0x292acefa460>]"
      ]
     },
     "execution_count": 94,
     "metadata": {},
     "output_type": "execute_result"
    }
   ],
   "source": [
    "agenda_rodrigo.buscar_por_nome(\"joana\")"
   ]
  },
  {
   "cell_type": "markdown",
   "id": "072c075f-b980-4e75-a84f-de84a7c947b2",
   "metadata": {},
   "source": [
    "8) Crie uma classe Cliente cujos atributos são nome, idade e e-mail. Construa um método que imprima as informações tal como abaixo:"
   ]
  },
  {
   "cell_type": "code",
   "execution_count": 21,
   "id": "ec51e305-7bc7-411d-b3eb-746874ffeb4a",
   "metadata": {},
   "outputs": [
    {
     "name": "stdout",
     "output_type": "stream",
     "text": [
      "\n",
      "            Nome: Rodrigo\n",
      "\n",
      "            Idade: 33\n",
      "\n",
      "            E-mail: rodrigo@gmail.com\n",
      "        \n",
      "\n",
      "            Nome: Carla\n",
      "\n",
      "            Idade: 36\n",
      "\n",
      "            E-mail: carla@gmail.com\n",
      "        \n"
     ]
    }
   ],
   "source": [
    "class Cliente:\n",
    "    '''\n",
    "    Cria uma representação de um cliente \n",
    "    \n",
    "    Atributos\n",
    "    ----------\n",
    "    nome : str\n",
    "        Nome do cliente\n",
    "    idade : int\n",
    "        Idade do cliente\n",
    "    email: str\n",
    "        Email do cliente\n",
    "    '''\n",
    "    \n",
    "    def __init__(self, nome, idade, email):\n",
    "        '''\n",
    "        Construtor\n",
    "\n",
    "        Parâmetros\n",
    "        ----------\n",
    "        nome : str\n",
    "            Recebe um nome como parametro\n",
    "        idade : int\n",
    "            Recebe uma idade como parametro\n",
    "        email : str\n",
    "            Recebe um email como parametro\n",
    "        '''\n",
    "\n",
    "        # Criando os atributos da classe Cliente\n",
    "        self.nome = nome\n",
    "        self.idade = idade\n",
    "        self.email = email\n",
    "        \n",
    "    def imprimir_cliente(self):\n",
    "        '''\n",
    "        Função que imprime os dados do cliente     \n",
    "        '''\n",
    "        print(f\"\"\"\n",
    "            Nome: {self.nome}\\n\n",
    "            Idade: {self.idade}\\n\n",
    "            E-mail: {self.email}\n",
    "        \"\"\")\n",
    "        \n",
    "rodrigo = Cliente(\"Rodrigo\", 33, \"rodrigo@gmail.com\")\n",
    "carla = Cliente(\"Carla\", 36, \"carla@gmail.com\")\n",
    "rodrigo.imprimir_cliente()\n",
    "carla.imprimir_cliente()"
   ]
  },
  {
   "cell_type": "code",
   "execution_count": null,
   "id": "f135abc4-203a-4e42-957f-abee60247c25",
   "metadata": {},
   "outputs": [],
   "source": []
  }
 ],
 "metadata": {
  "kernelspec": {
   "display_name": "Python 3",
   "language": "python",
   "name": "python3"
  },
  "language_info": {
   "codemirror_mode": {
    "name": "ipython",
    "version": 3
   },
   "file_extension": ".py",
   "mimetype": "text/x-python",
   "name": "python",
   "nbconvert_exporter": "python",
   "pygments_lexer": "ipython3",
   "version": "3.8.8"
  }
 },
 "nbformat": 4,
 "nbformat_minor": 5
}
