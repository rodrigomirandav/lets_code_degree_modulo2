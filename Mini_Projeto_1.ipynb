{
 "cells": [
  {
   "cell_type": "code",
   "execution_count": 45,
   "id": "ae7b0e04-179d-42de-b2ca-308f74fec318",
   "metadata": {},
   "outputs": [],
   "source": [
    "import datetime\n",
    "\n",
    "class Post:\n",
    "    '''\n",
    "    Cria uma representação do Post da nossa Rede Social\n",
    "    \n",
    "    Atributos\n",
    "    ----------\n",
    "    post : str\n",
    "        Texto do post feito pelo usuário.\n",
    "    data_hora_criacao : str\n",
    "        Data e hora da criação do post.\n",
    "    '''\n",
    "    \n",
    "    def __init__(self, post):\n",
    "        '''\n",
    "        Construtor\n",
    "        \n",
    "        Parâmetros\n",
    "        ----------\n",
    "        post : str\n",
    "            Post criado pelo usuário\n",
    "        '''\n",
    "        \n",
    "        # Criando os atributos da classe Post\n",
    "        self.post = post\n",
    "        self.data_hora_criacao = self.retornar_data_hora_formatada()\n",
    "        \n",
    "    def retornar_data_hora_formatada(self):\n",
    "        '''\n",
    "        Função que retorna a data e hora atual formatada\n",
    "        \n",
    "        Retornos\n",
    "        -------\n",
    "        str\n",
    "            Data e hora formatada\n",
    "        '''\n",
    "        return datetime.datetime.now()\\\n",
    "                       .strftime('%d/%m/%Y - %H:%M:%S')\n",
    "\n",
    "        \n",
    "class Pessoa:\n",
    "    '''\n",
    "    Cria uma representação da Pessoa da nossa Rede Social\n",
    "    \n",
    "    Atributos\n",
    "    ----------\n",
    "    nome : str\n",
    "        Nome da pessoa.\n",
    "    apelido : str\n",
    "        Apelido da pessoa.\n",
    "    data_nascimento : str\n",
    "        Data de nascimento da pessoa.\n",
    "    email : str\n",
    "        Email da pessoa.\n",
    "    amigos : list:`str`\n",
    "        Lista de amigos da pessoa\n",
    "    lista_interesses : list:`str`\n",
    "        Lista de interesses da pessoa\n",
    "    posts : list:`Post`\n",
    "        Lista de posts da pessoa\n",
    "    '''\n",
    "    \n",
    "    def __init__(self, nome, apelido, data_nascimento, email):\n",
    "        '''\n",
    "        Construtor\n",
    "        \n",
    "        Parâmetros\n",
    "        ----------\n",
    "        nome : str\n",
    "            Nome associado à pessoa.\n",
    "        apelido : str\n",
    "            Apelido associado à pessoa.\n",
    "        data_nascimento : str\n",
    "            Data de nascimento da pessoa.\n",
    "        email : str\n",
    "            Email associado a pessoa.\n",
    "        '''\n",
    "        \n",
    "        # Atribuindo os valores passados como parametros\n",
    "        # aos atributos da pessoa\n",
    "        self.nome = nome.capitalize()\n",
    "        self.apelido = apelido\n",
    "        self.data_nascimento = data_nascimento\n",
    "        self.email = email\n",
    "        \n",
    "        # Atribuindo valores default aos atributos\n",
    "        # que não foram recebidos como parametros\n",
    "        self.amigos = []\n",
    "        self.lista_interesses = []\n",
    "        self.posts = []\n",
    "        \n",
    "    def adicionar_amigo(self, amigo):\n",
    "        '''\n",
    "        Caso o amigo não esteja na lista de amigos,\n",
    "        ele é adicionado e retorna verdadeiro. Senão, é retornado\n",
    "        falso pois ele já se encontra na lista de amigos.\n",
    "        \n",
    "        Parâmetros\n",
    "        ----------\n",
    "        amigo: Pessoa\n",
    "            Amigo para ser adicionado\n",
    "       \n",
    "        Retornos\n",
    "        -------\n",
    "        bool\n",
    "            Verdadeiro se foi adicionado ou falso caso já esteja \n",
    "            na lista de amigos\n",
    "        '''\n",
    "        if amigo not in self.amigos:\n",
    "            self.amigos.append(amigo)\n",
    "            return True\n",
    "        return False\n",
    "    \n",
    "    def adicionar_interesse(self, interesse):\n",
    "        '''\n",
    "        Caso o interesse não esteja na lista de interesses,\n",
    "        ele é adicionado e retorna verdadeiro. Senão, é retornado\n",
    "        falso pois ele já se encontra na lista de interesses.\n",
    "        \n",
    "        Parâmetros\n",
    "        ----------\n",
    "        interesse: str\n",
    "            Interesse para ser adicionado à lista interesses\n",
    "       \n",
    "        Retornos\n",
    "        -------\n",
    "        bool\n",
    "            Verdadeiro se foi adicionado ou falso caso já esteja \n",
    "            na lista de interesses\n",
    "        '''\n",
    "        if interesse not in self.lista_interesses:\n",
    "            self.lista_interesses.append(interesse)\n",
    "            return True\n",
    "        return False\n",
    "    \n",
    "    def postar(self, post):\n",
    "        '''\n",
    "        Permite a pessoa fazer um post na nossa Rede Social,\n",
    "        adicionando a mensagem aos seus posts\n",
    "        \n",
    "        Parâmetros\n",
    "        ----------\n",
    "        post: str\n",
    "            A mensagem de texto para criação do post\n",
    "       \n",
    "        Retornos\n",
    "        -------\n",
    "        bool\n",
    "            Verdadeiro se foi postado\n",
    "        '''   \n",
    "        self.posts.append(Post(post))\n",
    "        return True\n",
    "        \n",
    "    def calcular_quantidade_amigos(self):\n",
    "        '''\n",
    "        Retorna a quantidade de amigos que a pessoa possui.\n",
    "\n",
    "        Retornos\n",
    "        -------\n",
    "        int\n",
    "            Quantidade de amigos\n",
    "        '''   \n",
    "        return len(self.amigos)\n",
    "    \n",
    "    def calcular_quantidade_posts(self):\n",
    "        '''\n",
    "        Retorna a quantidade de posts que a pessoa postou.\n",
    "\n",
    "        Retornos\n",
    "        -------\n",
    "        int\n",
    "            Quantidade de posts\n",
    "        '''   \n",
    "        return len(self.posts)\n",
    "    \n",
    "    def imprimir_quantidade_amigos(self):\n",
    "        '''\n",
    "        Imprimi a quantidade de amigos.\n",
    "        '''   \n",
    "        print(f\"{self.nome} possui {self.calcular_quantidade_amigos()} amigo(s)\")\n",
    "    \n",
    "    def imprimir_quantidade_posts(self):\n",
    "        '''\n",
    "        Imprimi a quantidade de posts.\n",
    "        '''   \n",
    "        print(f\"{self.nome} fez {self.calcular_quantidade_posts()} postagem(ns)\")\n",
    "        \n",
    "    def verificar_amigo(self, nome_amigo):\n",
    "        '''\n",
    "        Retorna se o nome passado como parametro é de algum amigo.\n",
    "        \n",
    "        Parâmetros\n",
    "        ----------\n",
    "        nome_amigo: str\n",
    "            Nome do amigo a ser procurado\n",
    "\n",
    "        Retornos\n",
    "        -------\n",
    "        bool\n",
    "            Verdadeiro se a pessoa já é amiga, ou falso caso não seja.\n",
    "        '''   \n",
    "        return any([True for pessoa in self.amigos if pessoa.nome == nome_amigo.capitalize()])\n",
    "    \n",
    "    def buscar_posts_por_texto(self, texto):\n",
    "        '''\n",
    "        Retorna todos os posts realizados, onde se encontra o texto passado como parametro\n",
    "\n",
    "        Parâmetros\n",
    "        ----------\n",
    "        texto: str\n",
    "            Texto a ser buscado nos posts da pessoa\n",
    "\n",
    "        Retornos\n",
    "        -------\n",
    "        list:`Post`\n",
    "            Retorna uma lista de posts\n",
    "        '''   \n",
    "        return [post_pessoa for post_pessoa in self.posts if texto.lower() in post_pessoa.post.lower()]\n",
    "    \n",
    "    def mostrar_posts_por_texto(self, texto):\n",
    "        '''\n",
    "        Imprime todos os posts realizados, onde se encontra o texto passado como parametro\n",
    "\n",
    "        Parâmetros\n",
    "        ----------\n",
    "        texto: str\n",
    "            Texto a ser buscado nos posts da pessoa\n",
    "        '''   \n",
    "        for post in self.buscar_posts_por_texto(texto):\n",
    "            self.mostrar_post(post)\n",
    "    \n",
    "    \n",
    "    def mostrar_post(self, post):\n",
    "        '''\n",
    "        Imprimir o post recebido como parametro\n",
    "\n",
    "        Parâmetros\n",
    "        ----------\n",
    "        post: Post\n",
    "            Post recebido como parametro\n",
    "        '''   \n",
    "        print(f\"\"\"\n",
    "                {self.nome} postou: {post.data_hora_criacao}\\n\n",
    "                {post.post}\n",
    "              \"\"\")\n",
    "        \n",
    "    def mostrar_posts(self):\n",
    "        '''\n",
    "        Imprime todos os posts realizados\n",
    "        '''   \n",
    "        for post in self.posts:\n",
    "            self.mostrar_post(post)\n",
    "        \n",
    "    def mostrar_posts_amigos(self):\n",
    "        '''\n",
    "        Imprimir posts dos amigos        \n",
    "        '''\n",
    "        for amigo in self.amigos:\n",
    "            amigo.mostrar_posts()\n",
    "        \n",
    "        "
   ]
  },
  {
   "cell_type": "markdown",
   "id": "9907916e-676b-4951-ae8d-0fb6da06cd6a",
   "metadata": {},
   "source": [
    "---"
   ]
  },
  {
   "cell_type": "markdown",
   "id": "a6b449d3-d501-4577-9786-cee63af8fdd7",
   "metadata": {},
   "source": [
    "**Criando os testes**"
   ]
  },
  {
   "cell_type": "markdown",
   "id": "3443d378-453d-4429-8c2d-3d12239ad6e1",
   "metadata": {},
   "source": [
    " - Criando usuários"
   ]
  },
  {
   "cell_type": "code",
   "execution_count": 46,
   "id": "fd88c0eb-ceb0-45be-baff-a93eae17b34f",
   "metadata": {},
   "outputs": [],
   "source": [
    "rodrigo = Pessoa(\n",
    "    nome=\"Rodrigo miranda\",\n",
    "    apelido=\"ro\",\n",
    "    data_nascimento=\"23/12/1987\",\n",
    "    email=\"rodrigomirandav250@gmail.com\"\n",
    ")"
   ]
  },
  {
   "cell_type": "code",
   "execution_count": 47,
   "id": "4611dee8-e034-42df-950d-4c5ef88e1e50",
   "metadata": {},
   "outputs": [],
   "source": [
    "rafael = Pessoa(\n",
    "    nome=\"rafael\",\n",
    "    apelido=\"rafa\",\n",
    "    data_nascimento=\"10/10/1996\",\n",
    "    email=\"rafa@gmail.com\"\n",
    ")"
   ]
  },
  {
   "cell_type": "code",
   "execution_count": 48,
   "id": "3407421f-31bc-4dc7-9052-11bb245147d7",
   "metadata": {},
   "outputs": [],
   "source": [
    "maria = Pessoa(\n",
    "    nome=\"maria aparecida\",\n",
    "    apelido=\"maria\",\n",
    "    data_nascimento=\"15/10/1984\",\n",
    "    email=\"maria@gmail.com\"\n",
    ")"
   ]
  },
  {
   "cell_type": "code",
   "execution_count": 49,
   "id": "e5ec3afc-b5df-411e-9ee7-816ba516a72e",
   "metadata": {},
   "outputs": [],
   "source": [
    "gabriel = Pessoa(\n",
    "    nome=\"gabriel\",\n",
    "    apelido=\"gab\",\n",
    "    data_nascimento=\"10/01/1989\",\n",
    "    email=\"gabriel@gmail.com\"\n",
    ")"
   ]
  },
  {
   "cell_type": "markdown",
   "id": "a7d70fac-49ca-4123-a4cc-2c7efd1f9d7d",
   "metadata": {},
   "source": [
    "\n",
    "* Adicionando interesses para alguns usuários"
   ]
  },
  {
   "cell_type": "code",
   "execution_count": 50,
   "id": "9840249b-5db2-4a3f-9633-3f5fbe636c04",
   "metadata": {},
   "outputs": [
    {
     "data": {
      "text/plain": [
       "True"
      ]
     },
     "execution_count": 50,
     "metadata": {},
     "output_type": "execute_result"
    }
   ],
   "source": [
    "rodrigo.adicionar_interesse(\"python\")"
   ]
  },
  {
   "cell_type": "code",
   "execution_count": 51,
   "id": "8101d209-37a5-491b-8d6d-ea1f19735cef",
   "metadata": {},
   "outputs": [
    {
     "data": {
      "text/plain": [
       "True"
      ]
     },
     "execution_count": 51,
     "metadata": {},
     "output_type": "execute_result"
    }
   ],
   "source": [
    "rodrigo.adicionar_interesse(\"c#\")"
   ]
  },
  {
   "cell_type": "code",
   "execution_count": 52,
   "id": "8ad2306b-e0f5-42de-829b-53cf348fe056",
   "metadata": {},
   "outputs": [
    {
     "data": {
      "text/plain": [
       "True"
      ]
     },
     "execution_count": 52,
     "metadata": {},
     "output_type": "execute_result"
    }
   ],
   "source": [
    "rodrigo.adicionar_interesse(\"computador\")"
   ]
  },
  {
   "cell_type": "code",
   "execution_count": 53,
   "id": "cd935a61-acb3-4e04-803a-61d8b1f2e524",
   "metadata": {},
   "outputs": [
    {
     "data": {
      "text/plain": [
       "False"
      ]
     },
     "execution_count": 53,
     "metadata": {},
     "output_type": "execute_result"
    }
   ],
   "source": [
    "# Repetir para verificar se ele não adiciona duas vezes\n",
    "rodrigo.adicionar_interesse(\"c#\")"
   ]
  },
  {
   "cell_type": "code",
   "execution_count": 54,
   "id": "e61cdb39-f020-48e6-b4f0-147c500b00de",
   "metadata": {},
   "outputs": [
    {
     "data": {
      "text/plain": [
       "['python', 'c#', 'computador']"
      ]
     },
     "execution_count": 54,
     "metadata": {},
     "output_type": "execute_result"
    }
   ],
   "source": [
    "# Verificar interesses Rodrigo\n",
    "rodrigo.lista_interesses"
   ]
  },
  {
   "cell_type": "code",
   "execution_count": 55,
   "id": "dc884f68-016b-4456-a54e-39b7aa1be4df",
   "metadata": {},
   "outputs": [
    {
     "data": {
      "text/plain": [
       "True"
      ]
     },
     "execution_count": 55,
     "metadata": {},
     "output_type": "execute_result"
    }
   ],
   "source": [
    "rafael.adicionar_interesse(\"culinária\")"
   ]
  },
  {
   "cell_type": "code",
   "execution_count": 56,
   "id": "611c5399-fd6c-4e88-81a6-ae8128cfdae5",
   "metadata": {},
   "outputs": [
    {
     "data": {
      "text/plain": [
       "['culinária']"
      ]
     },
     "execution_count": 56,
     "metadata": {},
     "output_type": "execute_result"
    }
   ],
   "source": [
    "rafael.lista_interesses"
   ]
  },
  {
   "cell_type": "markdown",
   "id": "e1f23dc5-99bc-4b04-87ea-41f3299ba2dc",
   "metadata": {},
   "source": [
    "* Adicionar alguns posts"
   ]
  },
  {
   "cell_type": "code",
   "execution_count": 57,
   "id": "f8160c30-2810-46b5-b1d0-c04ba89cd280",
   "metadata": {},
   "outputs": [
    {
     "data": {
      "text/plain": [
       "True"
      ]
     },
     "execution_count": 57,
     "metadata": {},
     "output_type": "execute_result"
    }
   ],
   "source": [
    "rodrigo.postar(\"Python é muito legal\")"
   ]
  },
  {
   "cell_type": "code",
   "execution_count": 58,
   "id": "6502063a-28bd-4344-a756-f91e334982dc",
   "metadata": {},
   "outputs": [
    {
     "data": {
      "text/plain": [
       "True"
      ]
     },
     "execution_count": 58,
     "metadata": {},
     "output_type": "execute_result"
    }
   ],
   "source": [
    "rodrigo.postar(\"E moro na cidade de SP\")"
   ]
  },
  {
   "cell_type": "code",
   "execution_count": 59,
   "id": "de196625-6abe-4ced-9aa0-c8333d5f0f1b",
   "metadata": {},
   "outputs": [
    {
     "data": {
      "text/plain": [
       "True"
      ]
     },
     "execution_count": 59,
     "metadata": {},
     "output_type": "execute_result"
    }
   ],
   "source": [
    "rafael.postar(\"Eu sou desenvolvedor java\")"
   ]
  },
  {
   "cell_type": "code",
   "execution_count": 60,
   "id": "cc0594ad-6a42-41c2-8be5-68856701c810",
   "metadata": {},
   "outputs": [
    {
     "data": {
      "text/plain": [
       "True"
      ]
     },
     "execution_count": 60,
     "metadata": {},
     "output_type": "execute_result"
    }
   ],
   "source": [
    "rafael.postar(\"Hoje eu vou cozinhar um prato especial\")"
   ]
  },
  {
   "cell_type": "code",
   "execution_count": 61,
   "id": "ea0b7835-8614-4b1a-9d39-df1de69d8fc8",
   "metadata": {},
   "outputs": [
    {
     "data": {
      "text/plain": [
       "True"
      ]
     },
     "execution_count": 61,
     "metadata": {},
     "output_type": "execute_result"
    }
   ],
   "source": [
    "maria.postar(\"Hoje tem festa na casa do Rodrigo\")"
   ]
  },
  {
   "cell_type": "code",
   "execution_count": 62,
   "id": "57df6f2f-28d0-40d2-b40d-f1b4b1f1d4a5",
   "metadata": {},
   "outputs": [
    {
     "data": {
      "text/plain": [
       "True"
      ]
     },
     "execution_count": 62,
     "metadata": {},
     "output_type": "execute_result"
    }
   ],
   "source": [
    "maria.postar(\"O dia está lindo\")"
   ]
  },
  {
   "cell_type": "markdown",
   "id": "89a1d11d-cc51-42ff-8c09-7bd74c2c5412",
   "metadata": {},
   "source": [
    "* Adicionando amigos"
   ]
  },
  {
   "cell_type": "code",
   "execution_count": 63,
   "id": "757cd9ac-df84-4296-891a-12d940d89295",
   "metadata": {},
   "outputs": [
    {
     "data": {
      "text/plain": [
       "True"
      ]
     },
     "execution_count": 63,
     "metadata": {},
     "output_type": "execute_result"
    }
   ],
   "source": [
    "rodrigo.adicionar_amigo(rafael)"
   ]
  },
  {
   "cell_type": "code",
   "execution_count": 64,
   "id": "a63a9f9e-260c-4efa-82c4-323b8a2bd0b8",
   "metadata": {},
   "outputs": [
    {
     "data": {
      "text/plain": [
       "True"
      ]
     },
     "execution_count": 64,
     "metadata": {},
     "output_type": "execute_result"
    }
   ],
   "source": [
    "rodrigo.adicionar_amigo(maria)"
   ]
  },
  {
   "cell_type": "code",
   "execution_count": 65,
   "id": "51e50067-9219-40b9-bb34-0453d988df17",
   "metadata": {},
   "outputs": [
    {
     "data": {
      "text/plain": [
       "False"
      ]
     },
     "execution_count": 65,
     "metadata": {},
     "output_type": "execute_result"
    }
   ],
   "source": [
    "# Verificando se ele permite adicionar a mesma pessoa mais de uma vez\n",
    "rodrigo.adicionar_amigo(maria)"
   ]
  },
  {
   "cell_type": "code",
   "execution_count": 66,
   "id": "e68da717-1650-48f9-be57-72d169647386",
   "metadata": {},
   "outputs": [
    {
     "data": {
      "text/plain": [
       "True"
      ]
     },
     "execution_count": 66,
     "metadata": {},
     "output_type": "execute_result"
    }
   ],
   "source": [
    "maria.adicionar_amigo(rodrigo)"
   ]
  },
  {
   "cell_type": "code",
   "execution_count": 67,
   "id": "7b23eea2-279c-41ff-8627-6a150e893967",
   "metadata": {},
   "outputs": [
    {
     "data": {
      "text/plain": [
       "True"
      ]
     },
     "execution_count": 67,
     "metadata": {},
     "output_type": "execute_result"
    }
   ],
   "source": [
    "maria.adicionar_amigo(gabriel)"
   ]
  },
  {
   "cell_type": "code",
   "execution_count": 68,
   "id": "b0fa5157-77b3-4a8f-840a-c8d1617ffa16",
   "metadata": {},
   "outputs": [
    {
     "data": {
      "text/plain": [
       "True"
      ]
     },
     "execution_count": 68,
     "metadata": {},
     "output_type": "execute_result"
    }
   ],
   "source": [
    "rafael.adicionar_amigo(rodrigo)"
   ]
  },
  {
   "cell_type": "code",
   "execution_count": 69,
   "id": "e7c9bcd8-369f-4712-91e0-27992dba9018",
   "metadata": {},
   "outputs": [
    {
     "data": {
      "text/plain": [
       "True"
      ]
     },
     "execution_count": 69,
     "metadata": {},
     "output_type": "execute_result"
    }
   ],
   "source": [
    "rafael.adicionar_amigo(gabriel)"
   ]
  },
  {
   "cell_type": "markdown",
   "id": "aec7680f-2090-4ebe-8318-9d9875a9d543",
   "metadata": {},
   "source": [
    "* Imprimindo quantidade de amigos"
   ]
  },
  {
   "cell_type": "code",
   "execution_count": 70,
   "id": "964fa5cd-12d1-4a3e-897b-7ebf1b3cd093",
   "metadata": {},
   "outputs": [
    {
     "name": "stdout",
     "output_type": "stream",
     "text": [
      "Rodrigo miranda possui 2 amigo(s)\n"
     ]
    }
   ],
   "source": [
    "rodrigo.imprimir_quantidade_amigos()"
   ]
  },
  {
   "cell_type": "code",
   "execution_count": 71,
   "id": "283af744-7eb6-4291-90c0-ca13a08268d5",
   "metadata": {},
   "outputs": [
    {
     "name": "stdout",
     "output_type": "stream",
     "text": [
      "Rafael possui 2 amigo(s)\n"
     ]
    }
   ],
   "source": [
    "rafael.imprimir_quantidade_amigos()"
   ]
  },
  {
   "cell_type": "code",
   "execution_count": 72,
   "id": "827e7796-2834-4a54-8c6c-686f0cfae36b",
   "metadata": {},
   "outputs": [
    {
     "name": "stdout",
     "output_type": "stream",
     "text": [
      "Maria aparecida possui 2 amigo(s)\n"
     ]
    }
   ],
   "source": [
    "maria.imprimir_quantidade_amigos()"
   ]
  },
  {
   "cell_type": "code",
   "execution_count": 73,
   "id": "dc7c4274-e95d-4fee-9537-f7dacaee916b",
   "metadata": {},
   "outputs": [
    {
     "name": "stdout",
     "output_type": "stream",
     "text": [
      "Gabriel possui 0 amigo(s)\n"
     ]
    }
   ],
   "source": [
    "gabriel.imprimir_quantidade_amigos()"
   ]
  },
  {
   "cell_type": "markdown",
   "id": "d056e842-19cf-4061-837d-56d6c2ae5552",
   "metadata": {},
   "source": [
    "* Imprimindo quantidade de posts"
   ]
  },
  {
   "cell_type": "code",
   "execution_count": 74,
   "id": "cde2408e-937b-426c-ba71-41b94c008257",
   "metadata": {},
   "outputs": [
    {
     "name": "stdout",
     "output_type": "stream",
     "text": [
      "Rodrigo miranda fez 2 postagem(ns)\n"
     ]
    }
   ],
   "source": [
    "rodrigo.imprimir_quantidade_posts()"
   ]
  },
  {
   "cell_type": "code",
   "execution_count": 75,
   "id": "e03edd80-d46d-4e16-ad59-cf50b052aed7",
   "metadata": {},
   "outputs": [
    {
     "name": "stdout",
     "output_type": "stream",
     "text": [
      "Rafael fez 2 postagem(ns)\n"
     ]
    }
   ],
   "source": [
    "rafael.imprimir_quantidade_posts()"
   ]
  },
  {
   "cell_type": "code",
   "execution_count": 76,
   "id": "8e65c2b6-b628-45f8-9a42-fee06e4b72f6",
   "metadata": {},
   "outputs": [
    {
     "name": "stdout",
     "output_type": "stream",
     "text": [
      "Maria aparecida fez 2 postagem(ns)\n"
     ]
    }
   ],
   "source": [
    "maria.imprimir_quantidade_posts()"
   ]
  },
  {
   "cell_type": "code",
   "execution_count": 77,
   "id": "3ee27f5e-9eb4-44e0-b9cc-8a1300373feb",
   "metadata": {},
   "outputs": [
    {
     "name": "stdout",
     "output_type": "stream",
     "text": [
      "Gabriel fez 0 postagem(ns)\n"
     ]
    }
   ],
   "source": [
    "gabriel.imprimir_quantidade_posts()"
   ]
  },
  {
   "cell_type": "markdown",
   "id": "169c89ef-b3c1-4a10-b0e7-ec00c0b7515c",
   "metadata": {},
   "source": [
    "* Fazer mais posts"
   ]
  },
  {
   "cell_type": "code",
   "execution_count": 78,
   "id": "e8de214e-2741-44e3-85af-a0d6e86091c0",
   "metadata": {},
   "outputs": [
    {
     "data": {
      "text/plain": [
       "True"
      ]
     },
     "execution_count": 78,
     "metadata": {},
     "output_type": "execute_result"
    }
   ],
   "source": [
    "rodrigo.postar(\"Hoje acordei bem tarde\")"
   ]
  },
  {
   "cell_type": "code",
   "execution_count": 79,
   "id": "04ce1617-d062-4807-8643-d9fb5698b34a",
   "metadata": {},
   "outputs": [
    {
     "data": {
      "text/plain": [
       "True"
      ]
     },
     "execution_count": 79,
     "metadata": {},
     "output_type": "execute_result"
    }
   ],
   "source": [
    "rodrigo.postar(\"Quarta feira tem aula de Python\")"
   ]
  },
  {
   "cell_type": "markdown",
   "id": "6c3c2750-5a65-47fe-a731-39d744ea78da",
   "metadata": {},
   "source": [
    "* Verificando novamente quantidad de posts"
   ]
  },
  {
   "cell_type": "code",
   "execution_count": 80,
   "id": "a9de9dd6-34cb-4615-b957-9aef5495adfc",
   "metadata": {},
   "outputs": [
    {
     "name": "stdout",
     "output_type": "stream",
     "text": [
      "Rodrigo miranda fez 4 postagem(ns)\n"
     ]
    }
   ],
   "source": [
    "rodrigo.imprimir_quantidade_posts()"
   ]
  },
  {
   "cell_type": "markdown",
   "id": "f672b7e7-9263-43f9-8690-4a005230b340",
   "metadata": {},
   "source": [
    "* Verificando laço de amizades entre duas pessoas na rede, pelo nome"
   ]
  },
  {
   "cell_type": "code",
   "execution_count": 83,
   "id": "bea46edb-72e5-49ce-af76-424fd47c1cad",
   "metadata": {},
   "outputs": [
    {
     "data": {
      "text/plain": [
       "True"
      ]
     },
     "execution_count": 83,
     "metadata": {},
     "output_type": "execute_result"
    }
   ],
   "source": [
    "rodrigo.verificar_amigo(\"rafael\")"
   ]
  },
  {
   "cell_type": "code",
   "execution_count": 84,
   "id": "0e85257e-a9f7-4e66-8308-3e7b9b696133",
   "metadata": {},
   "outputs": [
    {
     "data": {
      "text/plain": [
       "False"
      ]
     },
     "execution_count": 84,
     "metadata": {},
     "output_type": "execute_result"
    }
   ],
   "source": [
    "rodrigo.verificar_amigo(\"maria\")"
   ]
  },
  {
   "cell_type": "code",
   "execution_count": 86,
   "id": "13e9deb3-45cf-4110-88bf-a1c66dd8ee26",
   "metadata": {},
   "outputs": [
    {
     "data": {
      "text/plain": [
       "True"
      ]
     },
     "execution_count": 86,
     "metadata": {},
     "output_type": "execute_result"
    }
   ],
   "source": [
    "rodrigo.verificar_amigo(\"maria aparecida\")"
   ]
  },
  {
   "cell_type": "code",
   "execution_count": 87,
   "id": "1d7c7fa3-9f3a-44c7-8de9-c357adb7e813",
   "metadata": {},
   "outputs": [
    {
     "data": {
      "text/plain": [
       "True"
      ]
     },
     "execution_count": 87,
     "metadata": {},
     "output_type": "execute_result"
    }
   ],
   "source": [
    "maria.verificar_amigo(\"RODRIGO miranda\")"
   ]
  },
  {
   "cell_type": "code",
   "execution_count": 88,
   "id": "af449c15-430a-4564-9a6f-170b6ee1eb44",
   "metadata": {},
   "outputs": [
    {
     "data": {
      "text/plain": [
       "False"
      ]
     },
     "execution_count": 88,
     "metadata": {},
     "output_type": "execute_result"
    }
   ],
   "source": [
    "maria.verificar_amigo(\"rafael\")"
   ]
  },
  {
   "cell_type": "code",
   "execution_count": 89,
   "id": "7d85d50c-d581-4bb1-a7a8-8a1a7c920efa",
   "metadata": {},
   "outputs": [
    {
     "data": {
      "text/plain": [
       "True"
      ]
     },
     "execution_count": 89,
     "metadata": {},
     "output_type": "execute_result"
    }
   ],
   "source": [
    "maria.verificar_amigo(\"gabriel\")"
   ]
  },
  {
   "cell_type": "code",
   "execution_count": 90,
   "id": "0c1117c2-8aea-414c-9768-545f2220860c",
   "metadata": {},
   "outputs": [
    {
     "data": {
      "text/plain": [
       "False"
      ]
     },
     "execution_count": 90,
     "metadata": {},
     "output_type": "execute_result"
    }
   ],
   "source": [
    "gabriel.verificar_amigo(\"rodrigo miranda\")"
   ]
  },
  {
   "cell_type": "markdown",
   "id": "41519e21-d699-471a-9f8a-b3ad4730d85f",
   "metadata": {},
   "source": [
    "* Imprimir posts do usuário"
   ]
  },
  {
   "cell_type": "code",
   "execution_count": 91,
   "id": "9080a03b-9594-4aae-9047-cf5603a3a0a5",
   "metadata": {},
   "outputs": [
    {
     "name": "stdout",
     "output_type": "stream",
     "text": [
      "\n",
      "                Rodrigo miranda postou: 09/11/2021 - 08:56:44\n",
      "\n",
      "                Python é muito legal\n",
      "              \n",
      "\n",
      "                Rodrigo miranda postou: 09/11/2021 - 08:56:44\n",
      "\n",
      "                E moro na cidade de SP\n",
      "              \n",
      "\n",
      "                Rodrigo miranda postou: 09/11/2021 - 08:56:48\n",
      "\n",
      "                Hoje acordei bem tarde\n",
      "              \n",
      "\n",
      "                Rodrigo miranda postou: 09/11/2021 - 08:56:48\n",
      "\n",
      "                Quarta feira tem aula de Python\n",
      "              \n"
     ]
    }
   ],
   "source": [
    "rodrigo.mostrar_posts()"
   ]
  },
  {
   "cell_type": "code",
   "execution_count": 92,
   "id": "7d7428d1-b7cd-4ea8-be06-10deaa598ea8",
   "metadata": {},
   "outputs": [
    {
     "name": "stdout",
     "output_type": "stream",
     "text": [
      "\n",
      "                Rafael postou: 09/11/2021 - 08:56:44\n",
      "\n",
      "                Eu sou desenvolvedor java\n",
      "              \n",
      "\n",
      "                Rafael postou: 09/11/2021 - 08:56:44\n",
      "\n",
      "                Hoje eu vou cozinhar um prato especial\n",
      "              \n"
     ]
    }
   ],
   "source": [
    "rafael.mostrar_posts()"
   ]
  },
  {
   "cell_type": "code",
   "execution_count": 93,
   "id": "fbf5e5f8-ee9e-4c41-958d-d679551ecb9e",
   "metadata": {},
   "outputs": [
    {
     "name": "stdout",
     "output_type": "stream",
     "text": [
      "\n",
      "                Maria aparecida postou: 09/11/2021 - 08:56:45\n",
      "\n",
      "                Hoje tem festa na casa do Rodrigo\n",
      "              \n",
      "\n",
      "                Maria aparecida postou: 09/11/2021 - 08:56:45\n",
      "\n",
      "                O dia está lindo\n",
      "              \n"
     ]
    }
   ],
   "source": [
    "maria.mostrar_posts()"
   ]
  },
  {
   "cell_type": "code",
   "execution_count": 94,
   "id": "1a3908b6-9bd6-463f-89f4-cae301e164d4",
   "metadata": {},
   "outputs": [],
   "source": [
    "gabriel.mostrar_posts()"
   ]
  },
  {
   "cell_type": "markdown",
   "id": "c2fa2d0e-cd8d-4a4e-86c8-9498ce418a5d",
   "metadata": {},
   "source": [
    "* Mostrar posts por palavra, ou frase"
   ]
  },
  {
   "cell_type": "code",
   "execution_count": 98,
   "id": "c891a594-0448-4ad7-90b8-d298e35835b4",
   "metadata": {},
   "outputs": [
    {
     "name": "stdout",
     "output_type": "stream",
     "text": [
      "\n",
      "                Rodrigo miranda postou: 09/11/2021 - 08:56:44\n",
      "\n",
      "                Python é muito legal\n",
      "              \n",
      "\n",
      "                Rodrigo miranda postou: 09/11/2021 - 08:56:48\n",
      "\n",
      "                Quarta feira tem aula de Python\n",
      "              \n"
     ]
    }
   ],
   "source": [
    "rodrigo.mostrar_posts_por_texto(\"python\")"
   ]
  },
  {
   "cell_type": "code",
   "execution_count": 99,
   "id": "6f0cd85d-84c6-41a7-b058-b69a18cae571",
   "metadata": {},
   "outputs": [
    {
     "name": "stdout",
     "output_type": "stream",
     "text": [
      "\n",
      "                Maria aparecida postou: 09/11/2021 - 08:56:45\n",
      "\n",
      "                Hoje tem festa na casa do Rodrigo\n",
      "              \n"
     ]
    }
   ],
   "source": [
    "maria.mostrar_posts_por_texto(\"rodriGO\")"
   ]
  },
  {
   "cell_type": "code",
   "execution_count": 100,
   "id": "44e6ee94-e7cc-4fad-bc0b-5ce99c47c0ae",
   "metadata": {},
   "outputs": [
    {
     "name": "stdout",
     "output_type": "stream",
     "text": [
      "\n",
      "                Rafael postou: 09/11/2021 - 08:56:44\n",
      "\n",
      "                Hoje eu vou cozinhar um prato especial\n",
      "              \n"
     ]
    }
   ],
   "source": [
    "rafael.mostrar_posts_por_texto(\"vou cozinhar\")"
   ]
  },
  {
   "cell_type": "code",
   "execution_count": 101,
   "id": "b6296b3d-463f-4951-ab62-e04bc6eaca02",
   "metadata": {},
   "outputs": [
    {
     "name": "stdout",
     "output_type": "stream",
     "text": [
      "\n",
      "                Rafael postou: 09/11/2021 - 08:56:44\n",
      "\n",
      "                Eu sou desenvolvedor java\n",
      "              \n"
     ]
    }
   ],
   "source": [
    "rafael.mostrar_posts_por_texto(\"java\")"
   ]
  },
  {
   "cell_type": "code",
   "execution_count": 103,
   "id": "ff1d0c07-170c-4f0b-90c9-478a4a3dff26",
   "metadata": {},
   "outputs": [],
   "source": [
    "rafael.mostrar_posts_por_texto(\"acampar\")"
   ]
  },
  {
   "cell_type": "markdown",
   "id": "10887e6b-ea7a-4b02-a754-6659a0303c9c",
   "metadata": {},
   "source": [
    "* Imprimindo os posts dos amigos de um usuário"
   ]
  },
  {
   "cell_type": "code",
   "execution_count": 104,
   "id": "89ee4e88-600d-41df-9b06-e076b6ad438c",
   "metadata": {},
   "outputs": [
    {
     "name": "stdout",
     "output_type": "stream",
     "text": [
      "\n",
      "                Rafael postou: 09/11/2021 - 08:56:44\n",
      "\n",
      "                Eu sou desenvolvedor java\n",
      "              \n",
      "\n",
      "                Rafael postou: 09/11/2021 - 08:56:44\n",
      "\n",
      "                Hoje eu vou cozinhar um prato especial\n",
      "              \n",
      "\n",
      "                Maria aparecida postou: 09/11/2021 - 08:56:45\n",
      "\n",
      "                Hoje tem festa na casa do Rodrigo\n",
      "              \n",
      "\n",
      "                Maria aparecida postou: 09/11/2021 - 08:56:45\n",
      "\n",
      "                O dia está lindo\n",
      "              \n"
     ]
    }
   ],
   "source": [
    "rodrigo.mostrar_posts_amigos()"
   ]
  },
  {
   "cell_type": "code",
   "execution_count": 105,
   "id": "ab6db948-0165-49f6-bbec-8d0cf6a29188",
   "metadata": {},
   "outputs": [
    {
     "name": "stdout",
     "output_type": "stream",
     "text": [
      "\n",
      "                Rodrigo miranda postou: 09/11/2021 - 08:56:44\n",
      "\n",
      "                Python é muito legal\n",
      "              \n",
      "\n",
      "                Rodrigo miranda postou: 09/11/2021 - 08:56:44\n",
      "\n",
      "                E moro na cidade de SP\n",
      "              \n",
      "\n",
      "                Rodrigo miranda postou: 09/11/2021 - 08:56:48\n",
      "\n",
      "                Hoje acordei bem tarde\n",
      "              \n",
      "\n",
      "                Rodrigo miranda postou: 09/11/2021 - 08:56:48\n",
      "\n",
      "                Quarta feira tem aula de Python\n",
      "              \n"
     ]
    }
   ],
   "source": [
    "rafael.mostrar_posts_amigos()"
   ]
  },
  {
   "cell_type": "code",
   "execution_count": 106,
   "id": "0de74717-c063-4789-93af-83fa843aa2fc",
   "metadata": {},
   "outputs": [
    {
     "name": "stdout",
     "output_type": "stream",
     "text": [
      "\n",
      "                Rodrigo miranda postou: 09/11/2021 - 08:56:44\n",
      "\n",
      "                Python é muito legal\n",
      "              \n",
      "\n",
      "                Rodrigo miranda postou: 09/11/2021 - 08:56:44\n",
      "\n",
      "                E moro na cidade de SP\n",
      "              \n",
      "\n",
      "                Rodrigo miranda postou: 09/11/2021 - 08:56:48\n",
      "\n",
      "                Hoje acordei bem tarde\n",
      "              \n",
      "\n",
      "                Rodrigo miranda postou: 09/11/2021 - 08:56:48\n",
      "\n",
      "                Quarta feira tem aula de Python\n",
      "              \n"
     ]
    }
   ],
   "source": [
    "maria.mostrar_posts_amigos()"
   ]
  },
  {
   "cell_type": "code",
   "execution_count": 107,
   "id": "a05c6d9a-86e5-4242-90f3-16801100ab91",
   "metadata": {},
   "outputs": [],
   "source": [
    "gabriel.mostrar_posts_amigos()"
   ]
  },
  {
   "cell_type": "code",
   "execution_count": 108,
   "id": "6bdaabb6-a540-4ff3-a4c6-9eaf96f787d4",
   "metadata": {},
   "outputs": [
    {
     "name": "stdout",
     "output_type": "stream",
     "text": [
      "\n",
      "                Rodrigo miranda postou: 09/11/2021 - 08:56:44\n",
      "\n",
      "                Python é muito legal\n",
      "              \n",
      "\n",
      "                Rodrigo miranda postou: 09/11/2021 - 08:56:44\n",
      "\n",
      "                E moro na cidade de SP\n",
      "              \n",
      "\n",
      "                Rodrigo miranda postou: 09/11/2021 - 08:56:48\n",
      "\n",
      "                Hoje acordei bem tarde\n",
      "              \n",
      "\n",
      "                Rodrigo miranda postou: 09/11/2021 - 08:56:48\n",
      "\n",
      "                Quarta feira tem aula de Python\n",
      "              \n",
      "\n",
      "                Rafael postou: 09/11/2021 - 08:56:44\n",
      "\n",
      "                Eu sou desenvolvedor java\n",
      "              \n",
      "\n",
      "                Rafael postou: 09/11/2021 - 08:56:44\n",
      "\n",
      "                Hoje eu vou cozinhar um prato especial\n",
      "              \n"
     ]
    }
   ],
   "source": [
    "# Adicionar rafael à maria e verificar novamente posts de amigos\n",
    "maria.adicionar_amigo(rafael)\n",
    "maria.mostrar_posts_amigos()"
   ]
  },
  {
   "cell_type": "code",
   "execution_count": 110,
   "id": "b6843936-7f9c-45ce-a3bd-8387fb785403",
   "metadata": {},
   "outputs": [
    {
     "data": {
      "text/plain": [
       "True"
      ]
     },
     "execution_count": 110,
     "metadata": {},
     "output_type": "execute_result"
    }
   ],
   "source": [
    "# Postagem Gabriel\n",
    "gabriel.postar(\"Eu vou na casa do rodrigo hoje a noite para a festa\")"
   ]
  },
  {
   "cell_type": "code",
   "execution_count": 111,
   "id": "508abdd2-5f98-48da-8142-375c419be69f",
   "metadata": {},
   "outputs": [
    {
     "name": "stdout",
     "output_type": "stream",
     "text": [
      "\n",
      "                Rodrigo miranda postou: 09/11/2021 - 08:56:44\n",
      "\n",
      "                Python é muito legal\n",
      "              \n",
      "\n",
      "                Rodrigo miranda postou: 09/11/2021 - 08:56:44\n",
      "\n",
      "                E moro na cidade de SP\n",
      "              \n",
      "\n",
      "                Rodrigo miranda postou: 09/11/2021 - 08:56:48\n",
      "\n",
      "                Hoje acordei bem tarde\n",
      "              \n",
      "\n",
      "                Rodrigo miranda postou: 09/11/2021 - 08:56:48\n",
      "\n",
      "                Quarta feira tem aula de Python\n",
      "              \n",
      "\n",
      "                Gabriel postou: 09/11/2021 - 09:06:41\n",
      "\n",
      "                Eu vou na casa do rodrigo hoje a noite para a festa\n",
      "              \n",
      "\n",
      "                Rafael postou: 09/11/2021 - 08:56:44\n",
      "\n",
      "                Eu sou desenvolvedor java\n",
      "              \n",
      "\n",
      "                Rafael postou: 09/11/2021 - 08:56:44\n",
      "\n",
      "                Hoje eu vou cozinhar um prato especial\n",
      "              \n"
     ]
    }
   ],
   "source": [
    "# Imprimir posts do amigo da Maria pois ela possui os três usuários\n",
    "maria.mostrar_posts_amigos()"
   ]
  },
  {
   "cell_type": "code",
   "execution_count": 112,
   "id": "b28e54d9-9cec-46d8-9321-8eef7e6a8736",
   "metadata": {},
   "outputs": [
    {
     "name": "stdout",
     "output_type": "stream",
     "text": [
      "Maria aparecida possui 3 amigo(s)\n"
     ]
    }
   ],
   "source": [
    "# Verificando novamente quantidade de amigos da Maria\n",
    "maria.imprimir_quantidade_amigos()"
   ]
  },
  {
   "cell_type": "code",
   "execution_count": 113,
   "id": "b99407b9-a6f0-4612-9cf8-5c0d3a5e1e02",
   "metadata": {},
   "outputs": [
    {
     "name": "stdout",
     "output_type": "stream",
     "text": [
      "Rodrigo miranda fez 4 postagem(ns)\n"
     ]
    }
   ],
   "source": [
    "# Verificando quantidade de posts do Rodrigo\n",
    "rodrigo.imprimir_quantidade_posts()"
   ]
  },
  {
   "cell_type": "code",
   "execution_count": 114,
   "id": "74e96d22-daef-4006-bf26-7cfe375f9f68",
   "metadata": {},
   "outputs": [
    {
     "name": "stdout",
     "output_type": "stream",
     "text": [
      "Gabriel fez 1 postagem(ns)\n"
     ]
    }
   ],
   "source": [
    "gabriel.imprimir_quantidade_posts()"
   ]
  },
  {
   "cell_type": "code",
   "execution_count": null,
   "id": "91a4ab7d-3326-4b2a-9249-d9ad60763861",
   "metadata": {},
   "outputs": [],
   "source": []
  }
 ],
 "metadata": {
  "kernelspec": {
   "display_name": "Python 3",
   "language": "python",
   "name": "python3"
  },
  "language_info": {
   "codemirror_mode": {
    "name": "ipython",
    "version": 3
   },
   "file_extension": ".py",
   "mimetype": "text/x-python",
   "name": "python",
   "nbconvert_exporter": "python",
   "pygments_lexer": "ipython3",
   "version": "3.8.8"
  }
 },
 "nbformat": 4,
 "nbformat_minor": 5
}
