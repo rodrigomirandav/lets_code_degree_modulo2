{
 "cells": [
  {
   "cell_type": "code",
   "execution_count": 129,
   "id": "620bb13a-ed5e-4d2d-828f-71367a1f4085",
   "metadata": {},
   "outputs": [],
   "source": [
    "class Relogio:\n",
    "    def __init__(self, hora, minuto, segundo):\n",
    "        '''\n",
    "        docstring bonitinha\n",
    "        '''\n",
    "        # verificação dos tipos\n",
    "        if not isinstance(hora, int):\n",
    "            raise TypeError('Hora precisa ser do tipo inteiro.') \n",
    "        if not isinstance(minuto, int):\n",
    "            raise TypeError('Minuto precisa ser do tipo inteiro.') \n",
    "        if not isinstance(segundo, int):\n",
    "            raise TypeError('Segundo precisa ser do tipo inteiro.') \n",
    "\n",
    "        # definindo os intervalos\n",
    "        if hora < 0 or hora > 23:\n",
    "            raise ValueError('Hora precisa estar no intervalo de 0-23')\n",
    "        if minuto < 0 or minuto > 59:\n",
    "            raise ValueError('Minuto precisa estar no intervalo de 0-59')\n",
    "        if segundo < 0 or segundo > 59:\n",
    "            raise ValueError('Segundo precisa estar no intervalo de 0-59')\n",
    "\n",
    "        # finalmente criando os atributos\n",
    "        self.hora = hora\n",
    "        self.minuto = minuto\n",
    "        self.segundo = segundo\n",
    "\n",
    "    # representa os objetos da sua classe como string\n",
    "    def __repr__(self):\n",
    "        return f'{self.hora}:{self.minuto}:{self.segundo}'\n",
    "\n",
    "    # representa os objetos da sua classe\n",
    "    # sempre que str(obj) é chamado\n",
    "    def __str__(self):\n",
    "        return f'{self.hora:02d}:{self.minuto:02d}:{self.segundo:02d}'\n",
    "\n",
    "    def __add__(self, other):\n",
    "        segundos = ( (self.segundo + other.segundo) % 60 )\n",
    "        minutos = ( (self.minuto + other.minuto + ((self.segundo + other.segundo) // 60 )) % 60 )\n",
    "        \n",
    "        minutos_hora = ( (self.minuto + other.minuto + ((self.segundo + other.segundo) // 60 )) // 60 )\n",
    "        hora = (self.hora + other.hora + minutos_hora) % 24\n",
    "\n",
    "        soma = Relogio(hora, minutos, segundos)\n",
    "        return soma"
   ]
  },
  {
   "cell_type": "code",
   "execution_count": 137,
   "id": "d1d5debc-defc-4d81-99f0-5a3fda8ee8e4",
   "metadata": {},
   "outputs": [],
   "source": [
    "relogio1 = Relogio(\n",
    "    hora = 23,\n",
    "    minuto = 40,\n",
    "    segundo = 10\n",
    ")"
   ]
  },
  {
   "cell_type": "code",
   "execution_count": 138,
   "id": "7d6dc360-9383-41cc-be7a-9e3c988204de",
   "metadata": {},
   "outputs": [],
   "source": [
    "relogio2 = Relogio(\n",
    "    hora = 23,\n",
    "    minuto = 15,\n",
    "    segundo = 10\n",
    ")"
   ]
  },
  {
   "cell_type": "code",
   "execution_count": 139,
   "id": "8fa6bfa7-a89c-4c66-8ab0-e66a6d93574d",
   "metadata": {},
   "outputs": [
    {
     "name": "stdout",
     "output_type": "stream",
     "text": [
      "22:55:20\n"
     ]
    }
   ],
   "source": [
    "print(relogio1 + relogio2)"
   ]
  }
 ],
 "metadata": {
  "kernelspec": {
   "display_name": "Python 3",
   "language": "python",
   "name": "python3"
  },
  "language_info": {
   "codemirror_mode": {
    "name": "ipython",
    "version": 3
   },
   "file_extension": ".py",
   "mimetype": "text/x-python",
   "name": "python",
   "nbconvert_exporter": "python",
   "pygments_lexer": "ipython3",
   "version": "3.8.8"
  }
 },
 "nbformat": 4,
 "nbformat_minor": 5
}
